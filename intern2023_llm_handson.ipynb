{
  "nbformat": 4,
  "nbformat_minor": 0,
  "metadata": {
    "colab": {
      "provenance": []
    },
    "kernelspec": {
      "name": "python3",
      "display_name": "Python 3"
    },
    "language_info": {
      "name": "python"
    }
  },
  "cells": [
    {
      "cell_type": "markdown",
      "source": [
        "# 1. 開発実習環境セットアップ\n",
        "\n",
        "## 1.1. ハンズオン用githubリポジトリをクローン"
      ],
      "metadata": {
        "id": "5F1LjEZjw0IY"
      }
    },
    {
      "cell_type": "code",
      "execution_count": null,
      "metadata": {
        "id": "RSdYwilK9iE3"
      },
      "outputs": [],
      "source": [
        "!git clone https://github.com/taniii-shio/intern2023-llm-handson.git"
      ]
    },
    {
      "cell_type": "markdown",
      "source": [
        "## 1.2. OpenAIのAPIキーを環境変数として定義"
      ],
      "metadata": {
        "id": "7xsZzCtvxwIO"
      }
    },
    {
      "cell_type": "code",
      "source": [
        "!cd intern2023-llm-handson && echo -e \"OPENAI_API_KEY=xxx\" > /content/.env"
      ],
      "metadata": {
        "id": "oPkJya-WW-VV"
      },
      "execution_count": null,
      "outputs": []
    },
    {
      "cell_type": "code",
      "source": [
        "!cat .env"
      ],
      "metadata": {
        "id": "ZkQqRyGCXiCk"
      },
      "execution_count": null,
      "outputs": []
    },
    {
      "cell_type": "markdown",
      "source": [
        "## 1.3. Pythonのパッケージのインストール¶"
      ],
      "metadata": {
        "id": "Fubag9_4yCUV"
      }
    },
    {
      "cell_type": "code",
      "source": [
        "!pip install openai==0.27.8\n",
        "!pip install langchain==0.0.240\n",
        "!pip install PyMuPDF==1.22.5\n",
        "!pip install tiktoken==0.4.0\n",
        "!pip install faiss-cpu==1.7.4\n",
        "!pip install python-dotenv"
      ],
      "metadata": {
        "id": "X9KG2eW9VUrL"
      },
      "execution_count": null,
      "outputs": []
    },
    {
      "cell_type": "markdown",
      "source": [
        "## 1.4. Pythonのモジュールのインポート¶"
      ],
      "metadata": {
        "id": "XhT_b0X9yMty"
      }
    },
    {
      "cell_type": "code",
      "source": [
        "import os\n",
        "import json\n",
        "from dotenv import load_dotenv\n",
        "\n",
        "# OpenAI\n",
        "import openai\n",
        "\n",
        "# LangChain\n",
        "from langchain.document_loaders import PyMuPDFLoader\n",
        "from langchain.text_splitter import CharacterTextSplitter\n",
        "from langchain.vectorstores import FAISS\n",
        "from langchain.chains import RetrievalQA\n",
        "from langchain.embeddings import OpenAIEmbeddings\n",
        "from langchain.chat_models import ChatOpenAI"
      ],
      "metadata": {
        "id": "gpqqtWy8YIpl"
      },
      "execution_count": null,
      "outputs": []
    },
    {
      "cell_type": "markdown",
      "source": [
        "## 1.5. 環境変数の確認他¶"
      ],
      "metadata": {
        "id": "ZS8Z1_u5ydKC"
      }
    },
    {
      "cell_type": "code",
      "source": [
        "load_dotenv()"
      ],
      "metadata": {
        "id": "AG7C971MYMKY"
      },
      "execution_count": null,
      "outputs": []
    },
    {
      "cell_type": "code",
      "source": [
        "print(os.getenv(\"OPENAI_API_KEY\"))"
      ],
      "metadata": {
        "id": "v8JsdeGpYTfL"
      },
      "execution_count": null,
      "outputs": []
    },
    {
      "cell_type": "code",
      "source": [
        "openai.log = \"debug\""
      ],
      "metadata": {
        "id": "7zqp0e3RZabp"
      },
      "execution_count": null,
      "outputs": []
    },
    {
      "cell_type": "markdown",
      "source": [
        "# 2. PDFファイルからベクトルデータベースのインデックス作成¶"
      ],
      "metadata": {
        "id": "yX5etwD2yiaz"
      }
    },
    {
      "cell_type": "markdown",
      "source": [
        "## 2-1. PDFファイルを読み込み、分割\n",
        "埋め込みモデルのinputの上限を超えず、情報源として役に立つサイズに分割します。"
      ],
      "metadata": {
        "id": "p94IBB89yky9"
      }
    },
    {
      "cell_type": "code",
      "source": [
        "pdf_file_path = \"/content/intern2023-llm-handson/pdf/IBM_2021_ESG_Report.pdf\"\n",
        "loader = PyMuPDFLoader(pdf_file_path)\n",
        "\n",
        "text_splitter = CharacterTextSplitter.from_tiktoken_encoder(\n",
        "    encoding_name=\"cl100k_base\",\n",
        "    separator=\"\\n\",\n",
        "    chunk_size=2000,\n",
        "    chunk_overlap=200,\n",
        "    disallowed_special=(),\n",
        ")\n",
        "pages = loader.load_and_split(text_splitter=text_splitter)"
      ],
      "metadata": {
        "id": "-85BMOumZhAU"
      },
      "execution_count": null,
      "outputs": []
    },
    {
      "cell_type": "markdown",
      "source": [
        "PDFファイルを読み込んだ結果を確認してみます。"
      ],
      "metadata": {
        "id": "6YIARyLCypbX"
      }
    },
    {
      "cell_type": "code",
      "source": [
        "type_of_page = type(pages[0])\n",
        "page_count = len(pages)\n",
        "\n",
        "print(\"pageの型:\", type_of_page)\n",
        "print(\"ページ数:\", page_count)"
      ],
      "metadata": {
        "id": "XgOWf2NqZnU0"
      },
      "execution_count": null,
      "outputs": []
    },
    {
      "cell_type": "markdown",
      "source": [
        "1ページ分のデータを参照してみます。"
      ],
      "metadata": {
        "id": "Z2tC2K_Nyrnr"
      }
    },
    {
      "cell_type": "code",
      "source": [
        "page = pages[11]\n",
        "formatted_data = json.dumps(page.__dict__, indent=4, ensure_ascii=False)\n",
        "print(formatted_data)"
      ],
      "metadata": {
        "id": "sUREZUEoZo2B"
      },
      "execution_count": null,
      "outputs": []
    },
    {
      "cell_type": "code",
      "source": [
        "# ページ内容\n",
        "result = page.page_content\n",
        "\n",
        "# ページ内容を見やすくするため、50文字ずつに改行して表示\n",
        "line_length = 50\n",
        "for i in range(0, len(result), line_length):\n",
        "    print(result[i:i+line_length])"
      ],
      "metadata": {
        "id": "L5kVDLzjZsDx"
      },
      "execution_count": null,
      "outputs": []
    },
    {
      "cell_type": "markdown",
      "source": [
        "## 2.2. 埋め込みモデル（embedding）のインスタンス作成¶\n",
        "埋め込みモデルには、OpenAI APIを使います。"
      ],
      "metadata": {
        "id": "PCsAr6_My0nB"
      }
    },
    {
      "cell_type": "code",
      "source": [
        "embeddings = OpenAIEmbeddings(openai_api_key=os.getenv(\"OPENAI_API_KEY\"))"
      ],
      "metadata": {
        "id": "wUgNqKd1ZuEJ"
      },
      "execution_count": null,
      "outputs": []
    },
    {
      "cell_type": "markdown",
      "source": [
        "埋め込みモデルを使って、テキストをベクトル化してみます。"
      ],
      "metadata": {
        "id": "KF8bdSYjy-oc"
      }
    },
    {
      "cell_type": "code",
      "source": [
        "text = \"これは埋め込みのテストです。\"\n",
        "embeddings.embed_query(text)"
      ],
      "metadata": {
        "id": "pFTkhMhkZvhW"
      },
      "execution_count": null,
      "outputs": []
    },
    {
      "cell_type": "markdown",
      "source": [
        "## 2-3. 埋め込みモデルを使って、PDFファイルからインデックスを作成する¶\n",
        "ベクトルデータベースには、FAISSを使います。"
      ],
      "metadata": {
        "id": "SIDNGowazA7d"
      }
    },
    {
      "cell_type": "code",
      "source": [
        "db = FAISS.from_documents(pages, embeddings)"
      ],
      "metadata": {
        "id": "LQ6ntsm4cG7l"
      },
      "execution_count": null,
      "outputs": []
    },
    {
      "cell_type": "markdown",
      "source": [
        "検索してみます。"
      ],
      "metadata": {
        "id": "bumO5KKNzFzE"
      }
    },
    {
      "cell_type": "code",
      "source": [
        "query = \"IBMは気候変動のリスクにどのように取り組んでいますか？\"\n",
        "\n",
        "docs = db.similarity_search(query)\n",
        "for doc in docs:\n",
        "    print(\"page\", doc.metadata[\"page\"], doc)"
      ],
      "metadata": {
        "id": "XmWOjdHHcK1W"
      },
      "execution_count": null,
      "outputs": []
    },
    {
      "cell_type": "markdown",
      "source": [
        "検索結果はデフォルトで4ドキュメントを含みます。それぞれ、PDFファイルのメタデータを持っています。"
      ],
      "metadata": {
        "id": "6Cs9ienUzK_3"
      }
    },
    {
      "cell_type": "code",
      "source": [
        "def document_to_dict(document):\n",
        "    return document.__dict__\n",
        "\n",
        "formatted_data = json.dumps(docs[0], default=document_to_dict, indent=4, ensure_ascii=False)\n",
        "print(formatted_data)"
      ],
      "metadata": {
        "id": "RQMQdJuicPAz"
      },
      "execution_count": null,
      "outputs": []
    },
    {
      "cell_type": "markdown",
      "source": [
        "インデックスはローカルに保存することができます。"
      ],
      "metadata": {
        "id": "QyJ9R72czOOH"
      }
    },
    {
      "cell_type": "code",
      "source": [
        "index_path = \"/content/intern2023-llm-handson/index/IBM_2021_ESG_Report\"\n",
        "db.save_local(index_path)"
      ],
      "metadata": {
        "id": "6LRtSlbDzY8v"
      },
      "execution_count": null,
      "outputs": []
    },
    {
      "cell_type": "markdown",
      "source": [
        "保存したインデックスをロードすることができます。"
      ],
      "metadata": {
        "id": "IwUW6NihztWN"
      }
    },
    {
      "cell_type": "code",
      "source": [
        "db = FAISS.load_local(index_path, embeddings)"
      ],
      "metadata": {
        "id": "Rwsw_6xKztwT"
      },
      "execution_count": null,
      "outputs": []
    },
    {
      "cell_type": "markdown",
      "source": [
        "# 3. Retrieval QAチェーンの作成¶\n",
        "## 3.1. LLMのインスタンス作成を作成する¶\n",
        "LLMにOpenAI APIを使います。\n"
      ],
      "metadata": {
        "id": "YnLw0YTfcc2Z"
      }
    },
    {
      "cell_type": "code",
      "source": [
        "llm = ChatOpenAI(model_name=\"gpt-3.5-turbo-16k\")"
      ],
      "metadata": {
        "id": "PwenZVOycgt5"
      },
      "execution_count": null,
      "outputs": []
    },
    {
      "cell_type": "markdown",
      "source": [
        "## 3.2. Retrieval QAチェーンを作成する\n",
        "retriever（インデックス内の文書や埋め込みを検索するためのメソッド）とLLMを使って、Retrieval QAチェーンを生成します。"
      ],
      "metadata": {
        "id": "uLpcKZJPz7sE"
      }
    },
    {
      "cell_type": "code",
      "source": [
        "retriever = db.as_retriever()\n",
        "\n",
        "qa_chain = RetrievalQA.from_chain_type(\n",
        "    llm,\n",
        "    chain_type=\"stuff\",\n",
        "    retriever=retriever,\n",
        "    return_source_documents=True,\n",
        "    verbose=True)"
      ],
      "metadata": {
        "id": "V2AZafvrdgVJ"
      },
      "execution_count": null,
      "outputs": []
    },
    {
      "cell_type": "markdown",
      "source": [
        "# 4. QA実施¶\n",
        "Retrieval QAチェーンを使って、QAします。"
      ],
      "metadata": {
        "id": "G5FJEKxh0DWH"
      }
    },
    {
      "cell_type": "code",
      "source": [
        "query = \"IBMの温室効果ガス排出量削減目標を教えてください。\"\n",
        "response = qa_chain({\"query\": query})"
      ],
      "metadata": {
        "id": "eoHrO3v7dkDZ"
      },
      "execution_count": null,
      "outputs": []
    },
    {
      "cell_type": "markdown",
      "source": [
        "回答を見やすく表示します。"
      ],
      "metadata": {
        "id": "j4b12NPL0Ghh"
      }
    },
    {
      "cell_type": "code",
      "source": [
        "# レスポンスの回答部分\n",
        "result = response[\"result\"]\n",
        "\n",
        "# 回答を見やすくするため、50文字ずつに改行して表示\n",
        "line_length = 50\n",
        "for i in range(0, len(result), line_length):\n",
        "    print(result[i:i+line_length])"
      ],
      "metadata": {
        "id": "WPxCmOp6vjmy"
      },
      "execution_count": null,
      "outputs": []
    },
    {
      "cell_type": "markdown",
      "source": [
        "レスポンスを確認してみます。"
      ],
      "metadata": {
        "id": "de88URob0I-s"
      }
    },
    {
      "cell_type": "code",
      "source": [
        "def document_to_dict(document):\n",
        "    return document.__dict__\n",
        "\n",
        "formatted_data = json.dumps(response, default=document_to_dict, indent=4, ensure_ascii=False)\n",
        "print(formatted_data)"
      ],
      "metadata": {
        "id": "jvL7a_p8v41T"
      },
      "execution_count": null,
      "outputs": []
    }
  ]
}